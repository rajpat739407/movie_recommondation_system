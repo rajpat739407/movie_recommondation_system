{
 "cells": [
  {
   "cell_type": "code",
   "execution_count": 1,
   "id": "2f9b7095",
   "metadata": {},
   "outputs": [],
   "source": [
    "import pandas as pd\n",
    "import matplotlib.pyplot as plt\n",
    "import seaborn as sns"
   ]
  },
  {
   "cell_type": "code",
   "execution_count": 2,
   "id": "e38df03e",
   "metadata": {},
   "outputs": [
    {
     "name": "stdout",
     "output_type": "stream",
     "text": [
      "Movie shape: (9742, 3)\n",
      "Rating shape: (100836, 4)\n",
      "\n",
      " Movies head:\n",
      "   movieId                               title  \\\n",
      "0        1                    Toy Story (1995)   \n",
      "1        2                      Jumanji (1995)   \n",
      "2        3             Grumpier Old Men (1995)   \n",
      "3        4            Waiting to Exhale (1995)   \n",
      "4        5  Father of the Bride Part II (1995)   \n",
      "\n",
      "                                        genres  \n",
      "0  Adventure|Animation|Children|Comedy|Fantasy  \n",
      "1                   Adventure|Children|Fantasy  \n",
      "2                               Comedy|Romance  \n",
      "3                         Comedy|Drama|Romance  \n",
      "4                                       Comedy  \n",
      "\n",
      " Rating head:\n",
      "   userId  movieId  rating  timestamp\n",
      "0       1        1     4.0  964982703\n",
      "1       1        3     4.0  964981247\n",
      "2       1        6     4.0  964982224\n",
      "3       1       47     5.0  964983815\n",
      "4       1       50     5.0  964982931\n",
      "\n",
      " Missing values:\n",
      "movieId    0\n",
      "title      0\n",
      "genres     0\n",
      "dtype: int64\n",
      "userId       0\n",
      "movieId      0\n",
      "rating       0\n",
      "timestamp    0\n",
      "dtype: int64\n",
      "Rating Statistics:\n",
      "count    100836.000000\n",
      "mean          3.501557\n",
      "std           1.042529\n",
      "min           0.500000\n",
      "25%           3.000000\n",
      "50%           3.500000\n",
      "75%           4.000000\n",
      "max           5.000000\n",
      "Name: rating, dtype: float64\n"
     ]
    },
    {
     "data": {
      "image/png": "[encoded data removed]",
      "text/plain": [
       "<Figure size 1000x600 with 1 Axes>"
      ]
     },
     "metadata": {},
     "output_type": "display_data"
    },
    {
     "name": "stdout",
     "output_type": "stream",
     "text": [
      "\n",
      " Rating per user statistics:\n",
      "count     610.000000\n",
      "mean      165.304918\n",
      "std       269.480584\n",
      "min        20.000000\n",
      "25%        35.000000\n",
      "50%        70.500000\n",
      "75%       168.000000\n",
      "max      2698.000000\n",
      "Name: rating, dtype: float64\n",
      "\n",
      " Rating per movie statistics:\n",
      "count    9724.000000\n",
      "mean       10.369807\n",
      "std        22.401005\n",
      "min         1.000000\n",
      "25%         1.000000\n",
      "50%         3.000000\n",
      "75%         9.000000\n",
      "max       329.000000\n",
      "Name: rating, dtype: float64\n"
     ]
    }
   ],
   "source": [
    "movie = pd.read_csv('../data/movies.csv')\n",
    "rating = pd.read_csv('../data/ratings.csv')\n",
    "links = pd.read_csv('../data/links.csv')\n",
    "tags = pd.read_csv('../data/tags.csv')\n",
    "\n",
    "print(\"Movie shape:\", movie.shape)\n",
    "print(\"Rating shape:\", rating.shape)\n",
    "\n",
    "print(\"\\n Movies head:\")\n",
    "print(movie.head())\n",
    "\n",
    "print(\"\\n Rating head:\")\n",
    "print(rating.head())\n",
    "\n",
    "print(\"\\n Missing values:\")\n",
    "print(movie.isnull().sum())\n",
    "print(rating.isnull().sum())\n",
    "\n",
    "#Basic Statistics\n",
    "print(\"Rating Statistics:\")\n",
    "print(rating[\"rating\"].describe())\n",
    "\n",
    "#Distribution of Ratings\n",
    "plt.figure(figsize=(10,6))\n",
    "sns.countplot(x='rating', data=rating)\n",
    "plt.title('Distribution of Movie Ratings')\n",
    "plt.savefig('../data/rating_distrubution.png')\n",
    "plt.show()\n",
    "\n",
    "#Number of rating per user\n",
    "rating_per_user = rating.groupby('userId')['rating'].count()\n",
    "print(\"\\n Rating per user statistics:\")\n",
    "print(rating_per_user.describe())\n",
    "\n",
    "#Number of ratings per movie\n",
    "rating_per_user = rating.groupby('movieId')['rating'].count()\n",
    "print(\"\\n Rating per movie statistics:\")\n",
    "print(rating_per_user.describe())"
   ]
  },
  {
   "cell_type": "code",
   "execution_count": 3,
   "id": "5a3ff126",
   "metadata": {},
   "outputs": [
    {
     "name": "stdout",
     "output_type": "stream",
     "text": [
      "\n",
      " Top 10 rated movies: \n",
      "Forrest Gump (1994): 329 ratings\n",
      "Shawshank Redemption, The (1994): 317 ratings\n",
      "Pulp Fiction (1994): 307 ratings\n",
      "Silence of the Lambs, The (1991): 279 ratings\n",
      "Matrix, The (1999): 278 ratings\n",
      "Star Wars: Episode IV - A New Hope (1977): 251 ratings\n",
      "Jurassic Park (1993): 238 ratings\n",
      "Braveheart (1995): 237 ratings\n",
      "Terminator 2: Judgment Day (1991): 224 ratings\n",
      "Schindler's List (1993): 220 ratings\n",
      "Average rating per movie statistics: 3.26\n",
      "\n",
      " Rating over time: 1996-03-29 18:36:55 to 2018-09-24 14:27:30\n"
     ]
    }
   ],
   "source": [
    "#Additiona; analysis\n",
    "\n",
    "movie_rating_counts= rating.groupby('movieId')['rating'].count()\n",
    "top_10_rated = movie_rating_counts.sort_values(ascending=False).head(10)\n",
    "print(\"\\n Top 10 rated movies: \")\n",
    "for movie_id, count in top_10_rated.items():\n",
    "    movie_title = movie[movie['movieId']==movie_id]['title'].values[0]\n",
    "    print(f\"{movie_title}: {count} ratings\")\n",
    "    \n",
    "#Avegarage rating per movie\n",
    "\n",
    "avg_rating_per_movie = rating.groupby('movieId')['rating'].mean()\n",
    "print(f\"Average rating per movie statistics: {avg_rating_per_movie.mean():.2f}\" )\n",
    "\n",
    "#Data analysis \n",
    "\n",
    "if 'timestamp' in rating.columns:\n",
    "    rating['date'] = pd.to_datetime(rating['timestamp'],unit='s')\n",
    "    print(f\"\\n Rating over time: {rating['date'].min()} to {rating['date'].max()}\")"
   ]
  },
  {
   "cell_type": "code",
   "execution_count": null,
   "id": "8b7d7f2f",
   "metadata": {},
   "outputs": [],
   "source": []
  }
 ],
 "metadata": {
  "kernelspec": {
   "display_name": "Python 3",
   "language": "python",
   "name": "python3"
  },
  "language_info": {
   "codemirror_mode": {
    "name": "ipython",
    "version": 3
   },
   "file_extension": ".py",
   "mimetype": "text/x-python",
   "name": "python",
   "nbconvert_exporter": "python",
   "pygments_lexer": "ipython3",
   "version": "3.12.10"
  }
 },
 "nbformat": 4,
 "nbformat_minor": 5
}
